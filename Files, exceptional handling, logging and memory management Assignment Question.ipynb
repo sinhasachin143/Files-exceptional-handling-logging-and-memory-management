{
 "cells": [
  {
   "cell_type": "markdown",
   "metadata": {
    "id": "I4C91Vu-MwTG"
   },
   "source": [
    "# Files, exceptional handling,\n",
    "#logging and memory,\n",
    "#management,\n",
    "#Assignment Questions\n"
   ]
  },
  {
   "cell_type": "markdown",
   "metadata": {
    "id": "xh7zWw4HMubY"
   },
   "source": [
    "#theory question"
   ]
  },
  {
   "cell_type": "markdown",
   "metadata": {
    "id": "cHTsP_OqMueP"
   },
   "source": [
    "# 1.What is the difference between interpreted and compiled languages?\n",
    "\n",
    "answ->he primary difference between interpreted and compiled languages lies in how their code is executed by a computer\n",
    "\n",
    "Execution Process:\n",
    "\n",
    "Interpreted Languages: In interpreted languages, the code is executed line by line by an interpreter. The interpreter reads the code, translates it into machine language, and executes it during runtime. This means the code is not converted into machine code beforehand.\n",
    "\n",
    "Compiled Languages: In compiled languages, the entire source code is converted into machine code by a compiler before execution. The compiler produces an executable file, which can be run without needing the original sourc\n",
    "\n",
    "Speed:\n",
    "\n",
    "Interpreted Languages: Since the interpreter reads and executes the code line-by-line, it tends to be slower than compiled languages. The code has to be processed during runtime, which adds overhead.\n",
    "\n",
    "Compiled Languages: Once the code is compiled into machine code, it runs directly on the hardware, making compiled languages generally faster. There’s no need for translation during runtime.\n",
    "\n",
    "Error Detection:\n",
    "\n",
    "Interpreted Languages: Errors in interpreted languages are typically found at runtime, when the interpreter encounters problematic code. This allows dynamic error detection.\n",
    "\n",
    "Compiled Languages: In compiled languages, errors are detected during the compilation process. The program won’t compile if there are any syntax or logic errors, which helps catch issues before running the program.\n",
    "\n",
    "Output:\n",
    "\n",
    "Interpreted Languages: These languages do not produce a standalone executable file. Instead, they rely on an interpreter to execute the code, meaning you need the interpreter installed on the system where the program runs.\n",
    "\n",
    "Compiled Languages: These produce an executable file (e.g., .exe in Windows or a binary file in Linux), which can be run directly on the target system without needing the source code or a compiler."
   ]
  },
  {
   "cell_type": "markdown",
   "metadata": {
    "id": "rpSul4lgMugt"
   },
   "source": [
    "# 2.What is exception handling in Python?\n",
    "\n",
    "answ->Exception handling in Python is a mechanism that allows you to manage errors (exceptions) that occur during the execution of a program. Instead of letting the program crash when an error occurs, you can catch and handle the exception to allow the program to continue running or perform corrective actions.\n",
    "\n",
    "Key Components:\n",
    "\n",
    "try block:\n",
    "\n",
    "The try block contains the code that might raise an exception. Python attempts to execute the code inside the try block.\n",
    "except block:\n",
    "\n",
    "If an exception occurs in the try block, Python jumps to the except block. Here, you can handle the exception (e.g., print an error message, or take specific actions to correct it).\n",
    "\n",
    "else block (optional):\n",
    "\n",
    "If no exceptions occur in the try block, the code inside the else block will be executed. It’s used for code that should only run when no error occurs.\n",
    "\n",
    "finally block (optional):\n",
    "\n",
    "This block will always execute, whether or not an exception occurred. It's often used for clean-up actions like closing files or releasing resources."
   ]
  },
  {
   "cell_type": "markdown",
   "metadata": {
    "id": "ZEBp4A_8MujY"
   },
   "source": [
    "# 3.What is the purpose of the finally block in exception handling?\n",
    "\n",
    "answ->In Python, the finally block is used to define code that should always execute, regardless of whether an exception occurred or not in the try block. It is typically used for cleanup actions such as closing files, releasing resources, or resetting states, ensuring that these actions occur even if an error happens during execution.\n"
   ]
  },
  {
   "cell_type": "markdown",
   "metadata": {
    "id": "oqnqeiHbMumX"
   },
   "source": [
    "# 4.What is logging in Python?\n",
    "\n",
    "answ->Logging in Python is a way to track events, errors, or other information during the execution of a program. It allows you to write messages to a log file or output them to the console, which can be very useful for debugging, monitoring, and maintaining programs.\n",
    "\n",
    "Python's logging module provides a flexible framework for emitting log messages from your code, with different levels of severity. It helps to track the flow of the program and gather detailed information about its state.\n",
    "\n",
    "Benefits of Logging:\n",
    "\n",
    "Debugging: Logs provide detailed insights into program execution, making it easier to debug issues.\n",
    "\n",
    "Monitoring: You can monitor the performance and status of a program through logs.\n",
    "\n",
    "Error Tracking: Logs help track and record errors, making it easier to identify and resolve issues.\n",
    "\n",
    "Persistence: Logs can be written to files, allowing you to keep a record of program behavior over time.\n",
    "\n",
    "Log Levels:\n",
    "\n",
    "The logging module defines several levels of severity for messages:\n",
    "\n",
    "DEBUG: Detailed information for diagnosing problems (lowest severity).\n",
    "\n",
    "INFO: General information about the program's execution.\n",
    "\n",
    "WARNING: Indication that something unexpected happened, but the program can still run.\n",
    "\n",
    "ERROR: A more serious issue that prevents part of the program from working correctly.\n",
    "\n",
    "CRITICAL: A very serious error that may cause the program to crash.\\\n",
    "\n",
    "Python's logging module provides a flexible and powerful system to log events, errors, and other messages.\n",
    "\n",
    "It helps with debugging, monitoring, and maintaining your programs, providing better insight into how your code is executing."
   ]
  },
  {
   "cell_type": "markdown",
   "metadata": {
    "id": "4rGMyi2EMuoX"
   },
   "source": [
    "# 5.What is the significance of the __del__ method in Python?\n",
    "\n",
    "answ->Significance of the __del__ Method in Python\n",
    "In Python, the __del__ method is a special method (also known as a destructor) that is used to define cleanup actions when an object is about to be destroyed. It is automatically called when an object's reference count drops to zero, which usually happens when the object goes out of scope or is explicitly deleted.\n",
    "\n",
    "The primary purpose of the __del__ method is to allow an object to release any external resources (like files, database connections, network sockets, etc.) before it is removed from memory.\n",
    "\n",
    "Key Points About __del__ Method:\n",
    "\n",
    "Resource Cleanup: The __del__ method can be used to free resources like closing open files or network connections, ensuring proper resource management.\n",
    "\n",
    "Automatic Invocation: It is automatically called by the garbage collector when the object is no longer referenced, and its memory is about to be freed.\n",
    "\n",
    "Not Guaranteed: The __del__ method's invocation is not guaranteed to happen immediately after an object goes out of scope because Python uses automatic garbage collection. In some cases, if the program terminates before the object is destroyed, the __del__ method may not be called.\n",
    "\n",
    "Avoid Complex Cleanup: In most cases, it’s better to use context managers (with statement) or manual cleanup methods for managing resources, as the timing of __del__ is uncertain."
   ]
  },
  {
   "cell_type": "markdown",
   "metadata": {
    "id": "I1Ui7SRRMuq9"
   },
   "source": [
    "# 6.What is the difference between import and from ... import in Python?\n",
    "\n",
    "answ->Both import and from ... import are used to include external modules or specific components from modules into your Python code, but they work in slightly different ways.\n",
    "\n",
    "1.import Statement:\n",
    "The import statement is used to bring the entire module into the current namespace. When you import a module using import, you need to prefix the module's functions, classes, or variables with the module name.\n",
    "\n",
    "Syntax:\n",
    "\n",
    "import module_name\n",
    "\n",
    "Example:\n",
    "\n",
    "import math\n",
    "\n",
    "result = math.sqrt(16)  # Using math.sqrt() to calculate the square root\n",
    "print(result)\n",
    "\n",
    "Explanation:\n",
    "\n",
    "Here, the entire math module is imported, and you access its sqrt function using the prefix math.sqrt().\n",
    "\n",
    "This is useful when you need to use many functions or classes from a module and want to keep the namespace clear to avoid naming conflicts.\n",
    "\n",
    "2.from ... import Statement:\n",
    "The from ... import statement allows you to import specific functions, classes, or variables from a module directly into the current namespace. This way, you don't need to prefix them with the module name, and you can use them directly.\n",
    "\n",
    "Syntax:\n",
    "\n",
    "from module_name import specific_name\n",
    "\n",
    "Example:\n",
    "\n",
    "from math import sqrt\n",
    "\n",
    "result = sqrt(16)  # Directly using sqrt() without the math prefix\n",
    "print(result)\n",
    "\n",
    "Explanation:\n",
    "\n",
    "Here, only the sqrt function is imported from the math module. You can now call sqrt() directly without needing the math. prefix.\n",
    "\n",
    "This is useful when you only need specific parts of a module, which can make the code cleaner and potentially more efficient."
   ]
  },
  {
   "cell_type": "markdown",
   "metadata": {
    "id": "4BebvzwVQaeu"
   },
   "source": [
    "# 7.How can you handle multiple exceptions in Python?\n",
    "\n",
    "answ->In Python, multiple exceptions can be handled using multiple except clauses or by catching multiple exceptions in a single except block. This allows you to handle different types of errors that might occur in your code.\n",
    "\n",
    "1.Using Multiple except Blocks:\n",
    "\n",
    "You can have multiple except blocks, each catching a specific type of exception. This way, each exception can be handled separately with customized messages or actions.\n",
    "\n",
    "Example:\n",
    "\n",
    "try:\n",
    "   \n",
    "    x = int(input(\"Enter a number: \"))\n",
    "   \n",
    "    result = 10 / x\n",
    "\n",
    "except ValueError:\n",
    "\n",
    "    print(\"Invalid input! Please enter a valid number.\")\n",
    "\n",
    "except ZeroDivisionError:\n",
    "\n",
    "    print(\"Error! Division by zero is not allowed.\")\n",
    "\n",
    "except Exception as e:\n",
    "\n",
    "    print(f\"An unexpected error occurred: {e}\")\n",
    "\n",
    "Explanation:\n",
    "\n",
    "ValueError: Catches errors when the input is not a valid integer.\n",
    "\n",
    "ZeroDivisionError: Catches errors when trying to divide by zero.\n",
    "\n",
    "Exception: Catches any other exceptions that are not specifically handled.\n",
    "\n",
    "2.Catching Multiple Exceptions in a Single except Block:\n",
    "You can also catch multiple exceptions in a single except block by specifying a tuple of exceptions. This is useful if you want to handle different exceptions in the same way.\n",
    "\n",
    "Example:\n",
    "\n",
    "try:\n",
    "\n",
    "    x = int(input(\"Enter a number: \"))\n",
    "\n",
    "    result = 10 / x\n",
    "\n",
    "except (ValueError, ZeroDivisionError) as e:\n",
    "\n",
    "    print(f\"Error occurred: {e}\")\n",
    "\n",
    "Explanation:\n",
    "\n",
    "Both ValueError and ZeroDivisionError are caught in the same block.\n",
    "The exception is stored in the variable e, and its message is printed.\n",
    "\n",
    "3.Using else and finally with Multiple Exceptions:\n",
    "\n",
    "You can combine else and finally with your exception handling. The else block will execute if no exceptions are raised, and the finally block will execute no matter what, whether an exception occurs or not.\n",
    "\n",
    "Example:\n",
    "\n",
    "try:\n",
    "\n",
    "    x = int(input(\"Enter a number: \"))\n",
    "\n",
    "    result = 10 / x\n",
    "\n",
    "except (ValueError, ZeroDivisionError) as e:\n",
    "\n",
    "    print(f\"Error: {e}\")\n",
    "\n",
    "else:\n",
    "\n",
    "    print(\"Calculation was successful!\")\n",
    "\n",
    "finally:\n",
    "\n",
    "    print(\"This will run no matter what.\")\n",
    "\n",
    "Explanation:\n",
    "\n",
    "else: Executes if no exception is raised.\n",
    "\n",
    "finally: Always executes, regardless of whether an exception occurred or not.\n",
    "\n",
    "4.Catching Multiple Exceptions Using Exception as a Base Class:\n",
    "You can also catch more specific exceptions by using Exception as a base class. This allows you to handle all exceptions (or a subset) with a general except block.\n",
    "\n",
    "Example:\n",
    "\n",
    "try:\n",
    "\n",
    "    x = int(input(\"Enter a number: \"))\n",
    "\n",
    "    result = 10 / x\n",
    "\n",
    "except Exception as e:\n",
    "\n",
    "    print(f\"An error occurred: {e}\")\n",
    "\n",
    "Explanation:\n",
    "\n",
    "The Exception class is the base class for most built-in exceptions. It will catch any exception that is derived from Exception.\n",
    "\n",
    "Use multiple except blocks when you need to handle different exceptions in different ways.\n",
    "\n",
    "Use a tuple of exceptions in a single except block when you want to handle multiple exceptions in the same way.\n",
    "\n",
    "The else block can be used for code that should run if no exceptions occur.\n",
    "\n",
    "The finally block is for code that needs to run no matter what, such as cleanup actions."
   ]
  },
  {
   "cell_type": "markdown",
   "metadata": {
    "id": "YXXjPEOnQahn"
   },
   "source": [
    "# 8.What is the purpose of the with statement when handling files in Python?\n",
    "\n",
    "answ->The with statement in Python is used to wrap the execution of a block of code, ensuring that certain tasks are automatically performed before and after the block. When handling files, the with statement is commonly used to manage file opening and closing efficiently.\n",
    "\n",
    "The primary purpose of using the with statement for file handling is to ensure that the file is properly closed after its operations are completed, even if an error occurs during the process. This helps to prevent resource leakage (such as file handles remaining open) and makes the code cleaner and more readable."
   ]
  },
  {
   "cell_type": "markdown",
   "metadata": {
    "id": "T9J0L-jUQajU"
   },
   "source": [
    "# 9.What is the difference between multithreading and multiprocessing?\n",
    "\n",
    "answ->Both multithreading and multiprocessing are techniques for achieving concurrency in Python, but they differ significantly in terms of how they work, how they utilize system resources, and what kind of tasks they are best suited for. Below is a detailed comparison:\n",
    "\n",
    "1.Definition:\n",
    "\n",
    "Multithreading:\n",
    "\n",
    "Involves multiple threads within the same process. Each thread is a lightweight unit of execution and shares the same memory space.\n",
    "\n",
    "Threads are ideal for I/O-bound tasks (e.g., reading files, network requests) where the program spends time waiting for external resources, but doesn't need much CPU processing power.\n",
    "\n",
    "Multiprocessing:\n",
    "\n",
    "Involves multiple processes, each with its own memory space. Each process runs independently and has its own Python interpreter.\n",
    "\n",
    "Multiprocessing is better suited for CPU-bound tasks (e.g., intensive calculations) that require a significant amount of computational power.\n",
    "\n",
    "2.Memory and Resource Sharing:\n",
    "\n",
    "Multithreading:\n",
    "\n",
    "Threads within the same process share the same memory space, which means they can directly communicate with each other and share data easily.\n",
    "\n",
    "However, this can lead to issues like race conditions if multiple threads try to access shared resources simultaneously, so synchronization techniques (like locks) are required.\n",
    "\n",
    "Multiprocessing:\n",
    "\n",
    "Each process runs in its own memory space, which means they do not share data directly. Communication between processes typically happens via inter-process communication (IPC) mechanisms such as pipes or queues.\n",
    "\n",
    "Since processes have separate memory spaces, they avoid issues like race conditions, but require more overhead for sharing data between processes.\n",
    "\n",
    "\n",
    "3.Concurrency and Parallelism:\n",
    "\n",
    "Multithreading:\n",
    "\n",
    "Provides concurrency but not true parallelism in Python due to the Global Interpreter Lock (GIL). The GIL allows only one thread to execute Python bytecode at a time, even on multi-core systems.\n",
    "\n",
    "However, threads can still be helpful for concurrency in I/O-bound tasks, as Python can switch between threads when one thread is waiting for I/O operations.\n",
    "\n",
    "Multiprocessing:\n",
    "\n",
    "Provides true parallelism by using multiple processes. Since each process has its own Python interpreter and memory space, they can run in parallel on separate CPU cores, making it ideal for CPU-bound tasks.\n",
    "\n",
    "No GIL limitation applies in multiprocessing, allowing multiple processes to execute on different CPU cores simultaneously.\n",
    "\n",
    "4.Performance:\n",
    "\n",
    "Multithreading:\n",
    "\n",
    "Typically better for I/O-bound tasks, such as handling multiple network connections or reading from and writing to files.\n",
    "\n",
    "Since threads share memory, context switching between threads is faster than between processes.\n",
    "\n",
    "Multiprocessing:\n",
    "\n",
    "Better suited for CPU-bound tasks, such as mathematical computations or tasks requiring heavy processing power.\n",
    "\n",
    "While multiprocessing has more overhead (due to process creation and memory isolation), it can fully utilize multi-core systems to speed up CPU-intensive tasks.\n"
   ]
  },
  {
   "cell_type": "markdown",
   "metadata": {
    "id": "XvvxhJ-qQamm"
   },
   "source": [
    "#10. What are the advantages of using logging in a program?\n",
    "\n",
    "answ->Logging is an essential tool for monitoring, debugging, and maintaining a program. Unlike using simple print statements for tracking the flow or identifying issues, logging provides more control and flexibility. Here are the key advantages of using logging in a program:\n",
    "\n",
    "Persistent Logging:\n",
    "\n",
    "Logs can be written to files, allowing you to preserve information about your program’s execution even after the program ends.\n",
    "\n",
    "You can configure logging to store logs for a specified period, which helps in reviewing program behavior over time.\n",
    "\n",
    "Different Log Levels:\n",
    "\n",
    "Logging allows you to categorize log messages into different severity levels: DEBUG, INFO, WARNING, ERROR, and CRITICAL.\n",
    "\n",
    "This helps you control the verbosity of log messages and filter out less important information when needed."
   ]
  },
  {
   "cell_type": "markdown",
   "metadata": {
    "id": "GjhTXnUTQapz"
   },
   "source": [
    "# 11.What is memory management in Python?\n",
    "\n",
    "answ->Memory management in Python refers to the process by which Python handles the allocation, usage, and deallocation of memory during the execution of a program. Efficient memory management is crucial for improving the performance and stability of a Python application. Python uses various strategies to handle memory automatically, but it still requires a basic understanding of how it works to avoid issues like memory leaks.\n",
    "\n",
    "Key Features of Memory Management in Python\n",
    "\n",
    "1.Memory Allocation\n",
    "Heap Memory:\n",
    "Python stores all objects and data structures in a private heap managed by the interpreter.\n",
    "Programmers cannot access this heap directly but can use Python objects and variables to interact with memory indirectly.\n",
    "Memory Pools:\n",
    "Python optimizes memory usage by managing pools of memory for objects of different sizes. This minimizes fragmentation and speeds up memory allocation.\n",
    "\n",
    "2.Reference Counting\n",
    "Python uses a reference count to track how many variables or objects refer to a specific object.\n",
    "When the reference count drops to zero, the object is no longer needed and becomes eligible for garbage collection.\n",
    "\n",
    "3.Garbage Collection\n",
    "\n",
    "Python has a built-in garbage collector that reclaims memory occupied by unused objects.\n",
    "It primarily handles cyclic references, which occur when two or more objects reference each other but are otherwise unreachable.\n",
    "\n",
    "4.Object Reuse and Interning\n",
    "\n",
    "Python optimizes memory usage by reusing memory for small and frequently used objects, such as integers and strings.\n",
    "\n",
    "5.Manual Control of Garbage Collection\n",
    "\n",
    "The gc module allows programmers to interact with the garbage collector directly."
   ]
  },
  {
   "cell_type": "markdown",
   "metadata": {
    "id": "b5cH1UPvQarj"
   },
   "source": [
    "# 12.What are the basic steps involved in exception handling in Python?\n",
    "\n",
    "answ->In Python, exception handling is a mechanism for gracefully handling runtime errors, preventing the program from crashing. Here are the basic steps involved in exception handling:\n",
    "\n",
    "1.try Block\n",
    "Write the code that could potentially raise an exception inside a try block.\n",
    "This block contains the code that might cause errors.\n",
    "\n",
    "Syntax:\n",
    "\n",
    "try:\n",
    "    # Code that may raise an exception\n",
    "\n",
    "2.except Block\n",
    "\n",
    "Handle specific exceptions by catching them in an except block.\n",
    "If an exception occurs in the try block, the corresponding except block is executed.\n",
    "\n",
    "Syntax:\n",
    "\n",
    "try:\n",
    "    # Code that may raise an exception\n",
    "except SomeException:\n",
    "    # Code to handle the exception\n",
    "\n",
    "3.Optional: else Block\n",
    "\n",
    "The else block runs if no exception was raised in the try block.\n",
    "It’s useful for code that should execute only when there is no error.\n",
    "\n",
    "Syntax:\n",
    "\n",
    "try:\n",
    "    # Code that may raise an exception\n",
    "except SomeException:\n",
    "    # Handle the exception\n",
    "else:\n",
    "    # Code that runs if no exception occurs\n",
    "\n",
    "4.Optional: finally Block\n",
    "\n",
    "The finally block runs regardless of whether an exception occurred or not.\n",
    "It’s often used for cleanup tasks like closing files or releasing resources.\n",
    "\n",
    "Syntax:\n",
    "\n",
    "try:\n",
    "    # Code that may raise an exception\n",
    "except SomeException:\n",
    "    # Handle the exception\n",
    "finally:\n",
    "    # Code that always runs (e.g., cleanup)\n"
   ]
  },
  {
   "cell_type": "markdown",
   "metadata": {
    "id": "J9OlqLsYQauK"
   },
   "source": [
    "# 13.Why is memory management important in Python?\n",
    "\n",
    "answ->Memory management is crucial in Python for the following reasons:\n",
    "\n",
    "1.Efficient Resource Usage\n",
    "\n",
    "Limited memory resources: Python helps manage memory to ensure that your program doesn't consume more memory than necessary. This is especially important in large-scale applications or when running on devices with limited resources.\n",
    "Optimized performance: Efficient memory usage ensures that your program performs well, avoiding slowdowns caused by excessive memory consumption or inefficient resource allocation.\n",
    "\n",
    "2.Avoiding Memory Leaks\n",
    "\n",
    "Memory leaks occur when memory is allocated but not properly released, leading to increasing memory usage over time and potentially causing the program to crash.\n",
    "Python’s automatic garbage collection system and reference counting mechanism automatically clean up unused objects, reducing the risk of memory leaks.\n",
    "\n",
    "3.Program Stability\n",
    "\n",
    "Proper memory management helps ensure that the program doesn't exhaust available system memory, which can result in out-of-memory errors and system crashes.\n",
    "Python's memory management prevents unexpected failures by reclaiming memory from unused objects, ensuring the program runs smoothly over time.\n",
    "\n",
    "4.Improved Performance\n",
    "\n",
    "Garbage collection and memory pooling techniques ensure that memory is freed up when it is no longer needed, enhancing the performance of the program.\n",
    "Efficient memory management reduces the likelihood of memory fragmentation, which could slow down memory allocation and deallocation."
   ]
  },
  {
   "cell_type": "markdown",
   "metadata": {
    "id": "S8OlIvVmQaxS"
   },
   "source": [
    "# 14,.What is the role of try and except in exception handling?\n",
    "\n",
    "answ->The try and except blocks play a crucial role in Python’s exception handling mechanism. They allow you to manage runtime errors (exceptions) gracefully, preventing your program from crashing unexpectedly. Here’s how they work:\n",
    "\n",
    "1.try Block:\n",
    "\n",
    "The try block contains the code that may raise an exception during execution. If any error occurs while executing the code inside the try block, Python immediately stops executing further lines inside the try block and looks for an appropriate except block to handle the exception.\n",
    "Role of try:\n",
    "\n",
    "It monitors the code for errors or exceptions.\n",
    "\n",
    "It allows the program to continue running if no exception occurs\n",
    "\n",
    "2.except Block:\n",
    "\n",
    "The except block is used to catch and handle the exception that was raised in the try block.\n",
    "It specifies the type of exception to catch (e.g., ZeroDivisionError, FileNotFoundError), and the code inside the except block is executed when that specific exception occurs.\n",
    "\n",
    "If no specific exception type is mentioned, the except block can catch any exception that occurs in the try block.\n",
    "\n",
    "Role of except:\n",
    "\n",
    "It catches the exception raised in the try block.\n",
    "\n",
    "It allows the program to handle the error gracefully (e.g., by logging it, printing a message, or taking corrective action) instead of terminating the program."
   ]
  },
  {
   "cell_type": "markdown",
   "metadata": {
    "id": "I51ZwvhNQazB"
   },
   "source": [
    "# 15,.How does Python's garbage collection system work?\n",
    "\n",
    "answ->Python's garbage collection system is responsible for automatically managing memory by reclaiming unused memory from objects that are no longer in use. This system helps prevent memory leaks and ensures that memory is efficiently reused. Here’s how Python’s garbage collection works:\n",
    "\n",
    "1.Reference Counting:\n",
    "\n",
    "Reference counting is the primary memory management technique in Python.\n",
    "\n",
    "Each object in Python has an associated reference count, which tracks how many references (or pointers) there are to the object.\n",
    "\n",
    "2.Cyclic Garbage Collection:\n",
    "\n",
    "Reference counting alone is not sufficient to handle all memory management scenarios. Specifically, it cannot handle cyclic references—where two or more objects reference each other, creating a cycle.\n",
    "\n",
    "For example, two objects might reference each other, so their reference counts would never drop to zero, even though they are no longer accessible from the outside world.\n",
    "\n",
    "To deal with these cycles, Python includes a cyclic garbage collector in addition to reference counting.\n",
    "\n",
    "How cyclic garbage collection works:\n",
    "\n",
    "Python’s garbage collector periodically looks for objects that are involved in reference cycles and removes them.\n",
    "\n",
    "The collector breaks reference cycles and frees the memory used by the involved objects.\n",
    "\n",
    "3.The Garbage Collection Process:\n",
    "\n",
    "Python uses the gc module to handle garbage collection for cyclic references. The garbage collection process works in the following stages:\n",
    "\n",
    "Mark Phase: The garbage collector starts by \"marking\" all objects that are reachable (i.e., objects that can still be accessed directly or indirectly from the root of the object graph).\n",
    "\n",
    "Sweep Phase: After marking reachable objects, the garbage collector \"sweeps\" through memory to find and collect objects that are not marked (i.e., unreachable). These objects are removed, and their memory is freed.\n",
    "\n",
    "The garbage collector runs automatically in the background, but it can also be triggered manually using the gc module if necessary.\n",
    "\n",
    "4.Generations and Garbage Collection:\n",
    "\n",
    "Python’s garbage collector divides objects into three \"generations\" to improve efficiency. The idea is that objects that survive garbage collection for longer periods are less likely to be collected in the future, so they are moved to higher generations.\n",
    "\n",
    "Generation 0: Newly created objects. The garbage collector first looks for objects to collect in this generation.\n",
    "\n",
    "Generation 1: Objects that survived one collection cycle.\n",
    "\n",
    "Generation 2: Objects that survived multiple collection cycles.\n",
    "Objects in Generation 0 are collected more frequently, while those in\n",
    "\n",
    "Generation 2 are collected less often.\n",
    "\n",
    "This generational approach reduces the frequency of garbage collection for long-lived objects, making the process more efficient."
   ]
  },
  {
   "cell_type": "markdown",
   "metadata": {
    "id": "qfoEStywQa1m"
   },
   "source": [
    "# 16.What is the purpose of the else block in exception handling?\n",
    "\n",
    "The else block in exception handling is used to specify code that should run only if no exception is raised in the try block. It is typically placed after all the except blocks and provides a way to handle the situation where the code inside the try block executes successfully without any errors.\n",
    "\n",
    "Purpose of the else Block:\n",
    "\n",
    "Execute Code After Successful Execution:\n",
    "\n",
    "The else block allows you to define actions that should happen only if no exceptions are raised. It ensures that the code inside the try block has run without errors before executing the else block.\n",
    "\n",
    "Cleaner Code:\n",
    "\n",
    "Using the else block avoids the need to check manually if an exception occurred before running certain logic. This improves the readability and maintainability of the code.\n",
    "\n",
    "Separation of Concerns:\n",
    "\n",
    "It separates the \"normal flow\" (code that executes without errors) from the \"error handling\" (code inside except). This can make the program logic clearer.\n",
    "\n",
    "When to Use the else Block:\n",
    "\n",
    "The else block is ideal for scenarios where you want to execute code only when the try block completes without errors, such as logging success, performing additional computations, or closing resources like files."
   ]
  },
  {
   "cell_type": "markdown",
   "metadata": {
    "id": "krJLUxTNQa3W"
   },
   "source": [
    "# 17.What are the common logging levels in Python?\n",
    "\n",
    "answ->In Python, the logging module provides several logging levels to indicate the severity of events that are logged. These levels help developers understand the importance of the messages being logged and control which messages should be recorded at different stages of development or production. Here are the common logging levels in Python, ordered from the least to the most severe:\n",
    "\n",
    "1.DEBUG\n",
    "\n",
    "Purpose: This level is used for detailed information, typically useful for diagnosing problems during development.\n",
    "\n",
    "Severity: Very low (for debugging purposes).\n",
    "\n",
    "Description: Logs fine-grained messages that are helpful in debugging and understanding the flow of the application.\n",
    "\n",
    "2.INFO\n",
    "\n",
    "Purpose: This level is used to log general information about the system's normal operation.\n",
    "\n",
    "Severity: Low (for informational purposes).\n",
    "\n",
    "Description: Logs messages that confirm the system is working as expected. These messages are not as detailed as DEBUG, but they provide important insights into the program’s flow.\n",
    "\n",
    "3.WARNING\n",
    "\n",
    "Purpose: This level indicates that something unexpected occurred, but it is not necessarily an error.\n",
    "\n",
    "Severity: Medium (for warnings about potential issues).\n",
    "\n",
    "Description: Used when the application encounters a situation that could lead to an issue, but it doesn’t stop the application from continuing.\n",
    "\n",
    "4.ERROR\n",
    "\n",
    "Purpose: This level is used to log errors that affect the functionality of the application.\n",
    "\n",
    "Severity: High (for serious issues that require attention).\n",
    "\n",
    "Description: Logs messages that indicate a problem or error in the application that prevents certain operations from completing. The application may still be able to run, but the error must"
   ]
  },
  {
   "cell_type": "markdown",
   "metadata": {
    "id": "gh5XcFW2Qa6c"
   },
   "source": [
    "# 18.What is the difference between os.fork() and multiprocessing in Python?\n",
    "\n",
    "answ->The os.fork() and multiprocessing modules in Python both allow you to create and manage multiple processes, but they differ significantly in their approach and use cases. Here's a comparison between the two:\n",
    "\n",
    "1.os.fork()\n",
    "\n",
    "Overview:\n",
    "\n",
    "os.fork() is a low-level function available in Unix-based systems (Linux and macOS) that creates a new child process by duplicating the current process (the parent). After the fork, both the parent and the child processes continue execution from the point where os.fork() was called, but with different return\n",
    "\n",
    "values:\n",
    "\n",
    "In the parent process, os.fork() returns the process ID of the child process.\n",
    "In the child process, os.fork() returns 0.\n",
    "\n",
    "Characteristics:\n",
    "\n",
    "Low-level system call: It is a direct system call and is platform-dependent (only available on Unix-like systems).\n",
    "\n",
    "Shared memory space: Both the parent and the child processes initially share the same memory, but after forking, they get their own memory space (copy-on-write).\n",
    "\n",
    "No abstraction: os.fork() does not provide high-level abstractions for process management, such as inter-process communication (IPC) or process\n",
    "synchronization.\n",
    "\n",
    "Limitations of os.fork():\n",
    "\n",
    "Platform dependence: It only works on Unix-like systems (not available on Windows).\n",
    "\n",
    "No direct process management: You need to manually manage the process lifecycle, resources, and communication.\n",
    "\n",
    "Complexity: Handling process synchronization and communication manually can be cumbersome.\n",
    "\n",
    "2.multiprocessing Module\n",
    "\n",
    "Overview:\n",
    "\n",
    "The multiprocessing module provides a higher-level interface for spawning processes and managing parallel execution. It abstracts many of the complexities of process management, making it easier to work with processes and handle inter-process communication (IPC), synchronization, and more.\n",
    "\n",
    "Characteristics:\n",
    "\n",
    "Cross-platform: Unlike os.fork(), the multiprocessing module works on both Unix-like systems and Windows.\n",
    "\n",
    "Separate memory space: Each process has its own memory space, unlike os.fork(), which initially shares memory between the parent and child.\n",
    "\n",
    "Inter-process communication (IPC): The multiprocessing module includes built-in support for IPC via queues, pipes, shared memory, and managers, making it easier to share data between processes.\n",
    "\n",
    "Higher-level abstraction: It provides higher-level APIs for managing processes, including the Process class, which simplifies starting and managing subprocesses.\n",
    "\n",
    "Features of multiprocessing:\n",
    "\n",
    "Process Pool: You can create a pool of worker processes to distribute tasks (using Pool).\n",
    "\n",
    "Shared Memory: Supports shared memory objects (via Value, Array) for communication between processes.\n",
    "\n",
    "Synchronization: Provides mechanisms like locks, semaphores, and events to synchronize processes.\n",
    "\n",
    "Cross-platform: Works on both Windows and Unix-like systems."
   ]
  },
  {
   "cell_type": "markdown",
   "metadata": {
    "id": "8e53GRWjMutx"
   },
   "source": [
    "# 19.What is the importance of closing a file in Python?\n",
    "\n",
    "answ->Closing a file in Python is crucial for managing system resources and ensuring that data is properly written and saved. When a file is opened in Python, the system allocates resources to handle that file, and it is important to release those resources when the file is no longer needed. Here's why closing a file is important:\n",
    "\n",
    "1.Data Integrity:\n",
    "Flushing the buffer: When you write data to a file, Python doesn't always immediately write it to disk. Instead, it stores the data in a buffer to optimize performance. When you close the file, Python ensures that all buffered data is flushed and written to the disk. If the file is not closed properly, some data may not be written, leading to data corruption or loss.\n",
    "\n",
    "2.Resource Management:\n",
    "\n",
    "Releasing system resources: Every time a file is opened, the operating system allocates resources such as memory and file descriptors to manage the file. If you don't close the file, these resources might not be released, leading to resource leaks and, over time, system slowdowns or failures (e.g., running out of available file descriptors).\n",
    "\n",
    "3.Avoiding File Locks:\n",
    "\n",
    "Releasing locks: On some systems or when working with shared files, opening a file may acquire a lock to prevent other processes from writing to it simultaneously. Closing the file releases that lock, allowing other processes to access it. Failure to close the file may leave the file locked, preventing other operations from using it.\n",
    "\n",
    "4.Preventing Errors:\n",
    "\n",
    "Ensuring proper file handling: If you forget to close a file, it can lead to unexpected behavior or errors. For example, if you try to open the file again without closing it first, the system might not allow it due to an open file descriptor limit or file lock.\n",
    "\n"
   ]
  },
  {
   "cell_type": "markdown",
   "metadata": {
    "id": "a5Ul5PqAMuu9"
   },
   "source": [
    "# 20.What is the difference between file.read() and file.readline() in Python?\n",
    "\n",
    "answ->In Python, both file.read() and file.readline() are used to read content from a file, but they behave differently in how they retrieve the data. Here's a breakdown of the differences between the two:\n",
    "\n",
    "1.file.read()\n",
    "\n",
    "Reads the entire file: The read() method reads the entire content of the file at once and returns it as a single string.\n",
    "\n",
    "No line-by-line control: If the file is large, calling read() will load the entire file into memory, which might not be efficient for very large files.\n",
    "\n",
    "Can take an optional argument: You can specify the number of characters to read by passing an argument to read(size). If the argument is not provided, it reads the entire file.\n",
    "\n",
    "Returns: A single string that contains all the content of the file.\n",
    "\n",
    "2.file.readline()\n",
    "\n",
    "Reads one line at a time: The readline() method reads a single line from the file, including the newline character (\\n) at the end of the line (if it exists).\n",
    "\n",
    "Useful for large files: Since readline() reads one line at a time, it’s more memory-efficient for large files compared to read() because it doesn't load the entire file into memory at once.\n",
    "\n",
    "Can be called repeatedly: You can call readline() multiple times to read subsequent lines of the file.\n",
    "\n",
    "Returns: A single string containing one line from the file, including the newline character."
   ]
  },
  {
   "cell_type": "markdown",
   "metadata": {
    "id": "ACowDvfKMu2f"
   },
   "source": [
    "# 21.What is the logging module in Python used for?\n",
    "\n",
    "The logging module in Python is used for tracking and recording events that happen during the execution of a program. It provides a flexible framework for emitting log messages from Python programs, which can be used for debugging, monitoring, and keeping track of the application's behavior.\n",
    "\n",
    "Key Purposes of the Logging Module:\n",
    "\n",
    "Track Program Execution:\n",
    "\n",
    "The logging module allows you to log different types of messages that can help track the flow of a program. This is especially useful for debugging and understanding how the application is running at any given point.\n",
    "Debugging and Troubleshooting:\n",
    "\n",
    "Log messages can be used to record critical events, errors, and exceptions that may occur, helping developers identify issues and troubleshoot problems more efficiently.\n",
    "\n",
    "Monitoring Application Behavior:\n",
    "\n",
    "By logging important events (like user actions, file access, etc.), you can monitor the behavior of your application, track performance, and gather analytics or metrics for long-term insights.\n",
    "\n",
    "Saving Logs for Future Analysis:\n",
    "\n",
    "The logging module supports various output destinations (such as console, files, remote servers, etc.). This allows you to save logs for later analysis, auditing, or reporting purposes."
   ]
  },
  {
   "cell_type": "markdown",
   "metadata": {
    "id": "DrY15l0HMuw0"
   },
   "source": [
    "# 22.What is the os module in Python used for in file handling?\n",
    "\n",
    "answ->The os module in Python is a standard library that provides a way to interact with the operating system, and it includes functions for handling file and directory operations. In the context of file handling, the os module provides several methods to work with files and directories, allowing you to perform tasks such as creating, deleting, renaming, and querying information about files and directories.\n",
    "\n",
    "Here are some of the key functions in the os module used for file handling:\n",
    "\n",
    "1.File and Directory Operations\n",
    "Creating Directories:\n",
    "\n",
    "os.mkdir(path): Creates a new directory at the specified path.\n",
    "\n",
    "os.makedirs(path): Creates a directory, and if necessary, creates intermediate directories in the path as well.\n",
    "\n",
    "Removing Directories:\n",
    "\n",
    "os.rmdir(path): Removes an empty directory.\n",
    "\n",
    "os.removedirs(path): Removes directories recursively if they are empty.\n",
    "\n",
    "File Removal:\n",
    "\n",
    "os.remove(path): Deletes a file at the specified path.\n",
    "\n",
    "Renaming Files or Directories:\n",
    "\n",
    "os.rename(src, dst): Renames a file or directory from src to dst.\n",
    "\n",
    "2.File Information\n",
    "\n",
    "Checking if a Path Exists:\n",
    "\n",
    "os.path.exists(path): Returns True if the given path exists, otherwise False.\n",
    "\n",
    "os.path.isfile(path): Returns True if the path is a file.\n",
    "\n",
    "os.path.isdir(path): Returns True if the path is a directory.\n",
    "\n",
    "Getting File Size:\n",
    "\n",
    "os.path.getsize(path): Returns the size of the file at the given path in bytes\n",
    "\n",
    "Getting File Metadata:\n",
    "\n",
    "os.stat(path): Returns various metadata about the file, including size, permissions, and timestamps.\n",
    "\n",
    "3.File Paths and Directory Traversal\n",
    "\n",
    "Changing Current Working Directory:\n",
    "os.chdir(path): Changes the current working directory to the specified path.\n",
    "\n",
    "Getting Current Working Directory:\n",
    "\n",
    "os.getcwd(): Returns the current working directory.\n",
    "\n",
    "Listing Directory Contents:\n",
    "\n",
    "os.listdir(path): Returns a list of names of entries in the directory specified by path.\n",
    "\n",
    "5.Path Manipulation (using os.path)\n",
    "\n",
    "os.path.join(): Joins multiple path components into a single path, handling different operating systems' path conventions (e.g., forward slashes vs. backslashes).\n",
    "\n",
    "os.path.split(): Splits a path into a head (directory) and tail (file).\n",
    "\n",
    "os.path.splitext(): Splits the filename into a root and an extension.\n",
    "\n",
    "Conclusion:\n",
    "\n",
    "The os module is a powerful tool in Python that provides functions to interact with the file system, manage files and directories, check file properties, and manipulate file paths. It allows you to automate tasks that involve working with files, such as creating, deleting, renaming, or querying information about files and directories, all while providing cross-platform compatibility for handling file operations.\n"
   ]
  },
  {
   "cell_type": "markdown",
   "metadata": {
    "id": "oJ_yYyqDMuzr"
   },
   "source": [
    "# 23.What are the challenges associated with memory management in Python?\n",
    "\n",
    "answ->Memory management in Python is a critical aspect of the language, but it can also present challenges. Python uses automatic memory management through a garbage collector, but developers still need to be aware of potential issues to ensure their programs are efficient and avoid memory-related problems.\n",
    "\n",
    "Here are some of the key challenges associated with memory management in Python:\n",
    "\n",
    "1.Memory Leaks\n",
    "\n",
    "Problem: Memory leaks occur when a program allocates memory but fails to release it properly. In Python, while the garbage collector (GC) typically handles this, circular references (objects referencing each other) can sometimes cause the garbage collector to fail to free memory.\n",
    "\n",
    "Solution: Developers need to ensure that objects are no longer being referenced when they are no longer needed. Tools like gc.collect() and manual memory management strategies (e.g., weak references) can help mitigate leaks.\n",
    "\n",
    "Example: Circular references that are not broken can lead to memory leaks, as the garbage collector might not detect them.\n",
    "\n",
    "2.Inefficient Memory Usage\n",
    "\n",
    "Problem: Python's dynamic nature can lead to inefficient memory usage, especially in situations where objects are resized frequently (e.g., lists, dictionaries). These data structures may over-allocate memory to avoid frequent reallocations, leading to memory being wasted.\n",
    "\n",
    "Solution: Developers can optimize data structures, using more memory-efficient structures (like array.array for numeric data), and reduce unnecessary memory usage by clearing variables when they are no longer needed.\n",
    "\n",
    "Example: Lists in Python may pre-allocate more space than needed, which can lead to higher memory usage than expected, especially with large datasets.\n",
    "\n",
    "3.Garbage Collection Overhead\n",
    "\n",
    "Problem: Python uses automatic garbage collection to manage memory. While this is convenient, the garbage collector can introduce overhead, particularly in programs that create and destroy many objects frequently. This can result in performance degradation due to the periodic GC sweeps.\n",
    "\n",
    "Solution: The garbage collector can be controlled through the gc module, where you can manually disable or fine-tune the collection frequency. However, in most cases, this is not recommended unless performance issues are identified.\n",
    "\n",
    "Example: In high-performance applications, frequent garbage collection might cause noticeable pauses or slowdowns, especially if the program handles many small objects.\n",
    "\n",
    "5.Fragmentation\n",
    "\n",
    "Problem: Memory fragmentation can occur in Python when memory is allocated and freed in a way that leaves unused, small chunks of memory scattered across the heap. Over time, this can lead to inefficient memory use and performance degradation, especially in long-running applications.\n",
    "\n",
    "Solution: Python's memory management system uses a heap-based allocator that attempts to minimize fragmentation. However, fragmentation issues may still arise, especially when large numbers of objects are dynamically created and destroyed. Some solutions include tuning memory management settings or using specialized libraries that reduce fragmentation.\n",
    "\n",
    "Example: In long-running processes that create and delete many objects, fragmentation can cause memory use to grow over time, even if the total number of objects stays constant."
   ]
  },
  {
   "cell_type": "markdown",
   "metadata": {
    "id": "QdSQRZfziL55"
   },
   "source": [
    "# 24.How do you raise an exception manually in Python?\n",
    "\n",
    "answ->To raise an exception manually in Python, you can use the raise keyword followed by the exception type (either built-in or custom) and an optional error message. This allows you to trigger an exception in your code when a certain condition is met.\n",
    "\n",
    "Syntax:\n",
    "\n",
    "raise ExceptionType(\"Error message\")\n",
    "\n",
    "Where:\n",
    "\n",
    "ExceptionType is the type of the exception you want to raise (such as ValueError, TypeError, ZeroDivisionError, or a custom exception).\n",
    "\"Error message\" is an optional string that provides additional information about the error.\n",
    "\n",
    "Raising a Custom Exception:\n",
    "\n",
    "You can also create and raise your own custom exceptions by subclassing Python's built-in Exception class.\n",
    "\n",
    "Define a Custom Exception:\n",
    "\n",
    "class MyCustomError(Exception):\n",
    "   \n",
    "    pass\n",
    "\n",
    "Raise the Custom Exception:\n",
    "\n",
    "\n",
    "raise MyCustomError(\"This is a custom exception\")\n",
    "\n",
    "Example of Raising an Exception in a Function:\n",
    "\n",
    "def divide(a, b):\n",
    "    \n",
    "    if b == 0:\n",
    "        raise ZeroDivisionError(\"Cannot divide by zero\")\n",
    "    return a / b\n",
    "\n",
    "try:\n",
    "    \n",
    "    result = divide(10, 0)\n",
    "except ZeroDivisionError as e:\n",
    "    \n",
    "    print(f\"Error: {e}\")\n",
    "\n",
    "Custom Exception with Arguments:\n",
    "\n",
    "You can create custom exceptions that accept arguments for more detailed error reporting:\n",
    "\n",
    "\n",
    "class CustomError(Exception):\n",
    "   \n",
    "    def __init__(self, message, code):\n",
    "        self.message = message\n",
    "        self.code = code\n",
    "        super().__init__(self.message)\n",
    "\n",
    "# Raise a custom exception with a message and a code\n",
    "raise CustomError(\"An error occurred\", 404)\n",
    "Conclusion:\n",
    "To raise an exception manually in Python, use the raise keyword followed by the desired exception type. You can use built-in exceptions like ValueError or create your own custom exceptions for more specific error handling.\n"
   ]
  },
  {
   "cell_type": "markdown",
   "metadata": {
    "id": "p7_QsS_QMu5M"
   },
   "source": [
    "# 25.Why is it important to use multithreading in certain applications?\n",
    "\n",
    "answ->Multithreading is important in certain applications because it allows a program to execute multiple tasks concurrently, which can lead to better performance, especially for I/O-bound tasks and situations where tasks are independent and can be processed in parallel. Here are the key reasons why multithreading is used:\n",
    "\n",
    "1.Improved Performance for I/O-bound Operations:\n",
    "\n",
    "Problem: In applications that perform a lot of I/O operations (e.g., reading from files, network requests, database operations), these operations often cause the program to wait for responses, which leads to idle CPU time.\n",
    "\n",
    "Solution: Multithreading allows the program to execute other tasks while waiting for I/O operations to complete, thus improving overall performance.\n",
    "\n",
    "Example: A web server that handles multiple incoming requests can process requests in parallel, reducing wait time for users.\n",
    "\n",
    "2.Responsiveness in User Interfaces:\n",
    "\n",
    "Problem: In GUI applications, long-running tasks (e.g., file downloads, calculations) performed on the main thread can freeze the user interface, making it unresponsive.\n",
    "\n",
    "Solution: By using multithreading, you can offload long-running tasks to background threads, keeping the UI thread free to handle user input and updates.\n",
    "\n",
    "Example: In a photo-editing app, applying filters or resizing an image can be done in the background, while the user can still interact with other parts of the application.\n",
    "\n",
    "3.Parallelism for CPU-bound Tasks (with Multiprocessing):\n",
    "\n",
    "Problem: Although Python's Global Interpreter Lock (GIL) prevents true parallel execution of Python bytecodes in threads, multithreading can still be useful when tasks are I/O-bound. For CPU-bound tasks that require heavy computation, multithreading may not provide the best performance.\n",
    "\n",
    "Solution: In these cases, you can use multiprocessing (which creates separate processes with their own memory space) to achieve true parallelism. This is particularly useful for tasks like data processing, scientific computations, and simulations that can be split into smaller independent chunks.\n",
    "\n",
    "Example: Parallelizing matrix multiplication or performing multiple simulations simultaneously.\n",
    "\n",
    "4.Efficient Resource Utilization:\n",
    "\n",
    "Problem: A single-threaded application can leave resources underutilized, especially on multi-core processors.\n",
    "\n",
    "Solution: Multithreading can help take full advantage of multiple CPU cores or processors, improving performance by allowing concurrent execution of multiple tasks that don’t necessarily depend on each other.\n",
    "\n",
    "Example: A video processing application can process different frames in parallel, significantly speeding up the overall processing time."
   ]
  },
  {
   "cell_type": "markdown",
   "metadata": {
    "id": "S5ggl0xWMu8m"
   },
   "source": [
    "# Practical Questions"
   ]
  },
  {
   "cell_type": "code",
   "execution_count": 2,
   "metadata": {
    "id": "4bCMMwHgMraD"
   },
   "outputs": [],
   "source": [
    "#1.How can you open a file for writing in Python and write a string to it?\n",
    "# Open the file for writing (it will create the file if it doesn't exist)\n",
    "with open('example.txt', 'w') as file:\n",
    "    # Write a string to the file\n",
    "    file.write('Hello, this is a test string!')"
   ]
  },
  {
   "cell_type": "code",
   "execution_count": 4,
   "metadata": {
    "colab": {
     "base_uri": "https://localhost:8080/"
    },
    "executionInfo": {
     "elapsed": 6,
     "status": "ok",
     "timestamp": 1735920071415,
     "user": {
      "displayName": "Rahul Suthar",
      "userId": "04345552612626967094"
     },
     "user_tz": -330
    },
    "id": "UP4zzp_p8d6Q",
    "outputId": "1ccd9f01-32ba-4c34-e0af-51a13a0e5066"
   },
   "outputs": [
    {
     "name": "stdout",
     "output_type": "stream",
     "text": [
      "Hello, this is a test string!"
     ]
    }
   ],
   "source": [
    "#2.Write a Python program to read the contents of a file and print each line.\n",
    "# Open the file for reading\n",
    "with open('example.txt', 'r') as file:\n",
    "    # Read and print each line\n",
    "    for line in file:\n",
    "        print(line, end='')  # 'end' prevents adding an extra newline"
   ]
  },
  {
   "cell_type": "code",
   "execution_count": null,
   "metadata": {
    "colab": {
     "base_uri": "https://localhost:8080/"
    },
    "executionInfo": {
     "elapsed": 6,
     "status": "ok",
     "timestamp": 1735920071416,
     "user": {
      "displayName": "Rahul Suthar",
      "userId": "04345552612626967094"
     },
     "user_tz": -330
    },
    "id": "YvPNv8078d9F",
    "outputId": "975e933f-6e7f-4582-ee94-f693921232c0"
   },
   "outputs": [
    {
     "name": "stdout",
     "output_type": "stream",
     "text": [
      "Hello, this is a test string!"
     ]
    }
   ],
   "source": [
    "#3.How would you handle a case where the file doesn't exist while trying to open it for reading?\n",
    "try:\n",
    "    # Attempt to open the file for reading\n",
    "    with open('example.txt', 'r') as file:\n",
    "        # Read and print each line\n",
    "        for line in file:\n",
    "            print(line, end='')\n",
    "\n",
    "except FileNotFoundError:\n",
    "    print(\"The file does not exist.\")\n"
   ]
  },
  {
   "cell_type": "code",
   "execution_count": null,
   "metadata": {
    "colab": {
     "base_uri": "https://localhost:8080/"
    },
    "executionInfo": {
     "elapsed": 585,
     "status": "ok",
     "timestamp": 1735920210297,
     "user": {
      "displayName": "Rahul Suthar",
      "userId": "04345552612626967094"
     },
     "user_tz": -330
    },
    "id": "D_OlghgB8eAE",
    "outputId": "5643fe6e-19d5-4a31-a8ec-a5733a4eb261"
   },
   "outputs": [
    {
     "name": "stdout",
     "output_type": "stream",
     "text": [
      "Content has been successfully copied.\n"
     ]
    }
   ],
   "source": [
    "#4.Write a Python script that reads from one file and writes its content to another file?\n",
    "try:\n",
    "    # Open the source file for reading\n",
    "    with open('example.txt', 'r') as source_file:\n",
    "        # Open the destination file for writing\n",
    "        with open('destination.txt', 'w') as destination_file:\n",
    "            # Read the content from the source file and write it to the destination file\n",
    "            for line in source_file:\n",
    "                destination_file.write(line)\n",
    "\n",
    "    print(\"Content has been successfully copied.\")\n",
    "\n",
    "except FileNotFoundError:\n",
    "    print(\"The source file does not exist.\")\n",
    "except IOError as e:\n",
    "    print(f\"An error occurred: {e}\")\n"
   ]
  },
  {
   "cell_type": "code",
   "execution_count": null,
   "metadata": {
    "colab": {
     "base_uri": "https://localhost:8080/"
    },
    "executionInfo": {
     "elapsed": 9,
     "status": "ok",
     "timestamp": 1735920073053,
     "user": {
      "displayName": "Rahul Suthar",
      "userId": "04345552612626967094"
     },
     "user_tz": -330
    },
    "id": "tpn2UlR18eB2",
    "outputId": "6863e592-2f0c-40e1-f1c0-47deb103fcdc"
   },
   "outputs": [
    {
     "name": "stdout",
     "output_type": "stream",
     "text": [
      "Error: Cannot divide by zero!\n"
     ]
    }
   ],
   "source": [
    "#5.How would you catch and handle division by zero error in Python?\n",
    "try:\n",
    "    # Attempt to perform division\n",
    "    numerator = 10\n",
    "    denominator = 0\n",
    "    result = numerator / denominator\n",
    "    print(\"Result:\", result)\n",
    "\n",
    "except ZeroDivisionError:\n",
    "    print(\"Error: Cannot divide by zero!\")\n"
   ]
  },
  {
   "cell_type": "code",
   "execution_count": null,
   "metadata": {
    "colab": {
     "base_uri": "https://localhost:8080/"
    },
    "executionInfo": {
     "elapsed": 587,
     "status": "ok",
     "timestamp": 1735921366338,
     "user": {
      "displayName": "Rahul Suthar",
      "userId": "04345552612626967094"
     },
     "user_tz": -330
    },
    "id": "p4Oob_Jd8eEN",
    "outputId": "331e07a2-14a6-4d86-e10d-02fb12f29288"
   },
   "outputs": [
    {
     "name": "stderr",
     "output_type": "stream",
     "text": [
      "ERROR:root:Division by zero error occurred: division by zero\n"
     ]
    },
    {
     "name": "stdout",
     "output_type": "stream",
     "text": [
      "Error: Cannot divide by zero!\n"
     ]
    }
   ],
   "source": [
    "#6.Write a Python program that logs an error message to a log file when a division by zero exception occurs?\n",
    "import logging\n",
    "\n",
    "# Set up logging configuration\n",
    "logging.basicConfig(filename='error_log.txt', level=logging.ERROR, format='%(asctime)s - %(levelname)s - %(message)s')\n",
    "\n",
    "try:\n",
    "    # Attempt to perform division\n",
    "    numerator = 10\n",
    "    denominator = 0\n",
    "    result = numerator / denominator\n",
    "    print(\"Result:\", result)\n",
    "\n",
    "except ZeroDivisionError as e:\n",
    "    # Log the error message to the log file\n",
    "    logging.error(\"Division by zero error occurred: %s\", e)\n",
    "    print(\"Error: Cannot divide by zero!\")\n"
   ]
  },
  {
   "cell_type": "code",
   "execution_count": null,
   "metadata": {
    "colab": {
     "base_uri": "https://localhost:8080/"
    },
    "executionInfo": {
     "elapsed": 569,
     "status": "ok",
     "timestamp": 1735922859462,
     "user": {
      "displayName": "Rahul Suthar",
      "userId": "04345552612626967094"
     },
     "user_tz": -330
    },
    "id": "7Up4uJhkEKH1",
    "outputId": "68b9e9f1-9a76-4143-e28c-df5949120c35"
   },
   "outputs": [
    {
     "name": "stderr",
     "output_type": "stream",
     "text": [
      "ERROR:root:An error occurred: division by zero\n"
     ]
    },
    {
     "name": "stdout",
     "output_type": "stream",
     "text": [
      "Current working directory: /content\n",
      "An error occurred: division by zero\n",
      "Log file 'jo.txt' was not created.\n"
     ]
    }
   ],
   "source": [
    "import logging\n",
    "import os\n",
    "\n",
    "# Verify the current directory\n",
    "print(\"Current working directory:\", os.getcwd())\n",
    "\n",
    "# Configure logging to write to 'jo.txt' in the current directory\n",
    "log_file_path = \"/content/jo.txt\"  # File will be saved in /content/\n",
    "\n",
    "logging.basicConfig(filename=log_file_path, level=logging.INFO, format='%(asctime)s - %(levelname)s - %(message)s')\n",
    "\n",
    "# Log a test message and simulate an error\n",
    "try:\n",
    "    2 / 0  # This will raise a ZeroDivisionError\n",
    "except ZeroDivisionError as e:\n",
    "    logging.error(f\"An error occurred: {e}\")\n",
    "    print(\"An error occurred:\", e)\n",
    "\n",
    "# Shutdown logging to ensure all logs are written\n",
    "logging.shutdown()\n",
    "\n",
    "# Check if 'jo.txt' is created and print its content\n",
    "if os.path.exists(log_file_path):\n",
    "    print(f\"Log file created successfully at {log_file_path}\")\n",
    "    with open(log_file_path, \"r\") as log_file:\n",
    "        print(\"Log file content:\\n\", log_file.read())\n",
    "else:\n",
    "    print(\"Log file 'jo.txt' was not created.\")\n"
   ]
  },
  {
   "cell_type": "code",
   "execution_count": null,
   "metadata": {
    "colab": {
     "base_uri": "https://localhost:8080/"
    },
    "executionInfo": {
     "elapsed": 419,
     "status": "ok",
     "timestamp": 1735904641636,
     "user": {
      "displayName": "Rahul Suthar",
      "userId": "04345552612626967094"
     },
     "user_tz": -330
    },
    "id": "f0OTqCae8eG0",
    "outputId": "0f752848-6762-4096-fbd6-1108c9effc78"
   },
   "outputs": [
    {
     "name": "stderr",
     "output_type": "stream",
     "text": [
      "WARNING:root:This is a warning message\n",
      "ERROR:root:This is an error message\n",
      "CRITICAL:root:This is a critical message\n"
     ]
    }
   ],
   "source": [
    "#7.How do you log information at different levels (INFO, ERROR, WARNING) in Python using the logging modul?\n",
    "import logging\n",
    "\n",
    "# Set up logging configuration\n",
    "logging.basicConfig(\n",
    "    filename='app.log',\n",
    "    level=logging.DEBUG,  # Capture all levels from DEBUG and above\n",
    "    format='%(asctime)s - %(levelname)s - %(message)s'\n",
    ")\n",
    "\n",
    "# Log messages at different levels\n",
    "logging.debug('This is a debug message')  # Detailed information for diagnosing problems\n",
    "logging.info('This is an info message')   # General information about program progress\n",
    "logging.warning('This is a warning message')  # Indication of potential issues\n",
    "logging.error('This is an error message')  # An error that occurred\n",
    "logging.critical('This is a critical message')  # A very severe error, typically crashing the program\n"
   ]
  },
  {
   "cell_type": "code",
   "execution_count": null,
   "metadata": {
    "colab": {
     "base_uri": "https://localhost:8080/"
    },
    "executionInfo": {
     "elapsed": 543,
     "status": "ok",
     "timestamp": 1735904687887,
     "user": {
      "displayName": "Rahul Suthar",
      "userId": "04345552612626967094"
     },
     "user_tz": -330
    },
    "id": "IkTQXV5h8eJY",
    "outputId": "30e8869b-4f64-476f-b935-c102fbde37d8"
   },
   "outputs": [
    {
     "name": "stdout",
     "output_type": "stream",
     "text": [
      "Error: The file does not exist.\n"
     ]
    }
   ],
   "source": [
    "#8.Write a program to handle a file opening error using exception handling?\n",
    "try:\n",
    "    # Attempt to open the file\n",
    "    with open('non_existent_file.txt', 'r') as file:\n",
    "        # Read the content of the file\n",
    "        content = file.read()\n",
    "        print(content)\n",
    "\n",
    "except FileNotFoundError:\n",
    "    print(\"Error: The file does not exist.\")\n",
    "except IOError as e:\n",
    "    print(f\"An unexpected I/O error occurred: {e}\")\n"
   ]
  },
  {
   "cell_type": "code",
   "execution_count": null,
   "metadata": {
    "colab": {
     "base_uri": "https://localhost:8080/"
    },
    "executionInfo": {
     "elapsed": 508,
     "status": "ok",
     "timestamp": 1735924236353,
     "user": {
      "displayName": "Rahul Suthar",
      "userId": "04345552612626967094"
     },
     "user_tz": -330
    },
    "id": "3FIoiN808eML",
    "outputId": "a145f11b-2cd1-404e-b595-e91cc96a9806"
   },
   "outputs": [
    {
     "name": "stdout",
     "output_type": "stream",
     "text": [
      "[['Hello, this is a test string!']]\n"
     ]
    }
   ],
   "source": [
    "#9.How can you read a file line by line and store its content in a list in Python?\n",
    "# Initialize an empty list to store the lines\n",
    "lines = []\n",
    "\n",
    "try:\n",
    "    # Open the file for reading\n",
    "    with open('example.txt', 'r') as file:\n",
    "        # Read each line and append it to the list\n",
    "        lines.append(file.readlines())\n",
    "\n",
    "    # Print the content of the list\n",
    "    print(lines)\n",
    "\n",
    "except FileNotFoundError:\n",
    "    print(\"Error: The file does not exist.\")\n"
   ]
  },
  {
   "cell_type": "code",
   "execution_count": null,
   "metadata": {
    "colab": {
     "base_uri": "https://localhost:8080/"
    },
    "executionInfo": {
     "elapsed": 701,
     "status": "ok",
     "timestamp": 1735904774823,
     "user": {
      "displayName": "Rahul Suthar",
      "userId": "04345552612626967094"
     },
     "user_tz": -330
    },
    "id": "VTG3ycrs8eOY",
    "outputId": "6f6295c3-a0a2-482b-865a-837c44e9e820"
   },
   "outputs": [
    {
     "name": "stdout",
     "output_type": "stream",
     "text": [
      "Data has been appended to the file.\n"
     ]
    }
   ],
   "source": [
    "#10.How can you append data to an existing file in Python?\n",
    "# Open the file in append mode\n",
    "with open('example.txt', 'a') as file:\n",
    "    # Write the data to the file\n",
    "    file.write(\"This is the new data being appended.\\n\")\n",
    "\n",
    "print(\"Data has been appended to the file.\")\n"
   ]
  },
  {
   "cell_type": "code",
   "execution_count": null,
   "metadata": {
    "colab": {
     "base_uri": "https://localhost:8080/"
    },
    "executionInfo": {
     "elapsed": 511,
     "status": "ok",
     "timestamp": 1735904843226,
     "user": {
      "displayName": "Rahul Suthar",
      "userId": "04345552612626967094"
     },
     "user_tz": -330
    },
    "id": "XSE6i2Jw8eRv",
    "outputId": "76bdaa08-859e-44d3-9704-fd0bedceeaba"
   },
   "outputs": [
    {
     "name": "stdout",
     "output_type": "stream",
     "text": [
      "Error: The key 'address' does not exist in the dictionary.\n"
     ]
    }
   ],
   "source": [
    "'''11.Write a Python program that uses a try-except block to handle an error when attempting to access a\n",
    "dictionary key that doesn't exist?'''\n",
    "# Sample dictionary\n",
    "my_dict = {'name': 'John', 'age': 30}\n",
    "\n",
    "try:\n",
    "    # Attempt to access a key that doesn't exist\n",
    "    value = my_dict['address']\n",
    "    print(\"Value:\", value)\n",
    "\n",
    "except KeyError as e:\n",
    "    print(f\"Error: The key '{e.args[0]}' does not exist in the dictionary.\")\n"
   ]
  },
  {
   "cell_type": "code",
   "execution_count": null,
   "metadata": {
    "colab": {
     "base_uri": "https://localhost:8080/"
    },
    "executionInfo": {
     "elapsed": 467,
     "status": "ok",
     "timestamp": 1735904893919,
     "user": {
      "displayName": "Rahul Suthar",
      "userId": "04345552612626967094"
     },
     "user_tz": -330
    },
    "id": "KduAz9L78eTz",
    "outputId": "e42d3a1d-b257-45c7-f0ba-850b756a2641"
   },
   "outputs": [
    {
     "name": "stdout",
     "output_type": "stream",
     "text": [
      "Error: Cannot divide by zero!\n"
     ]
    }
   ],
   "source": [
    "#12.Write a program that demonstrates using multiple except blocks to handle different types of exceptions?\n",
    "try:\n",
    "    # Example code that may raise different exceptions\n",
    "    num1 = 10\n",
    "    num2 = 0  # This will raise a ZeroDivisionError\n",
    "\n",
    "    # Division operation (will raise ZeroDivisionError)\n",
    "    result = num1 / num2\n",
    "\n",
    "    # Accessing a dictionary with a missing key (will raise KeyError)\n",
    "    my_dict = {'name': 'Alice'}\n",
    "    value = my_dict['age']\n",
    "\n",
    "except ZeroDivisionError:\n",
    "    print(\"Error: Cannot divide by zero!\")\n",
    "\n",
    "except KeyError as e:\n",
    "    print(f\"Error: The key '{e.args[0]}' does not exist in the dictionary.\")\n",
    "\n",
    "except Exception as e:\n",
    "    print(f\"An unexpected error occurred: {e}\")\n"
   ]
  },
  {
   "cell_type": "code",
   "execution_count": null,
   "metadata": {
    "colab": {
     "base_uri": "https://localhost:8080/"
    },
    "executionInfo": {
     "elapsed": 10,
     "status": "ok",
     "timestamp": 1735904972789,
     "user": {
      "displayName": "Rahul Suthar",
      "userId": "04345552612626967094"
     },
     "user_tz": -330
    },
    "id": "MxBMLxWi8eWU",
    "outputId": "a61a46de-ff92-41a1-dd4e-89094ff21a7f"
   },
   "outputs": [
    {
     "name": "stdout",
     "output_type": "stream",
     "text": [
      "Hello, this is a test string!This is the new data being appended.\n",
      "\n"
     ]
    }
   ],
   "source": [
    "#13.How would you check if a file exists before attempting to read it in Python?\n",
    "from pathlib import Path\n",
    "\n",
    "# File path\n",
    "file_path = Path('example.txt')\n",
    "\n",
    "# Check if the file exists\n",
    "if file_path.exists():\n",
    "    try:\n",
    "        with open(file_path, 'r') as file:\n",
    "            content = file.read()\n",
    "            print(content)\n",
    "    except Exception as e:\n",
    "        print(f\"An error occurred: {e}\")\n",
    "else:\n",
    "    print(f\"The file '{file_path}' does not exist.\")\n"
   ]
  },
  {
   "cell_type": "code",
   "execution_count": null,
   "metadata": {
    "colab": {
     "base_uri": "https://localhost:8080/"
    },
    "executionInfo": {
     "elapsed": 510,
     "status": "ok",
     "timestamp": 1735905058200,
     "user": {
      "displayName": "Rahul Suthar",
      "userId": "04345552612626967094"
     },
     "user_tz": -330
    },
    "id": "pIvP1m518eZg",
    "outputId": "a73656c2-0a0e-4ec8-90f4-f61c427c9af0"
   },
   "outputs": [
    {
     "name": "stderr",
     "output_type": "stream",
     "text": [
      "WARNING:root:This is a warning message.\n",
      "ERROR:root:This is an error message.\n",
      "CRITICAL:root:This is a critical message.\n",
      "ERROR:root:A division by zero error occurred: division by zero\n"
     ]
    }
   ],
   "source": [
    "#14.Write a program that uses the logging module to log both informational and error messages?\n",
    "import logging\n",
    "\n",
    "# Set up logging configuration\n",
    "logging.basicConfig(\n",
    "    filename='app.log',  # Log file\n",
    "    level=logging.DEBUG,  # Capture all levels from DEBUG and above\n",
    "    format='%(asctime)s - %(levelname)s - %(message)s'\n",
    ")\n",
    "\n",
    "# Log an informational message\n",
    "logging.info('This is an informational message.')\n",
    "\n",
    "# Log a warning message\n",
    "logging.warning('This is a warning message.')\n",
    "\n",
    "# Log an error message\n",
    "logging.error('This is an error message.')\n",
    "\n",
    "# Log a critical message\n",
    "logging.critical('This is a critical message.')\n",
    "\n",
    "# Simulate an error for demonstration\n",
    "try:\n",
    "    x = 1 / 0  # This will raise a ZeroDivisionError\n",
    "except ZeroDivisionError as e:\n",
    "    logging.error(f\"A division by zero error occurred: {e}\")\n"
   ]
  },
  {
   "cell_type": "code",
   "execution_count": null,
   "metadata": {
    "colab": {
     "base_uri": "https://localhost:8080/"
    },
    "executionInfo": {
     "elapsed": 13,
     "status": "ok",
     "timestamp": 1735975957771,
     "user": {
      "displayName": "Rahul Suthar",
      "userId": "04345552612626967094"
     },
     "user_tz": -330
    },
    "id": "_4B3AXVj8ebP",
    "outputId": "d2704821-7f26-42b2-ff5b-54205240f162"
   },
   "outputs": [
    {
     "name": "stdout",
     "output_type": "stream",
     "text": [
      "Error: The file 'example.txt' was not found.\n"
     ]
    }
   ],
   "source": [
    "#15.Write a Python program that prints the content of a file and handles the case when the file is empty?\n",
    "def print_file_content(file_path):\n",
    "    try:\n",
    "        # Open the file in read mode\n",
    "        with open(file_path, 'r') as file:\n",
    "            content = file.read()\n",
    "\n",
    "            # Check if the file is empty\n",
    "            if not content:\n",
    "                print(\"The file is empty.\")\n",
    "            else:\n",
    "                print(\"File content:\")\n",
    "                print(content)\n",
    "\n",
    "    except FileNotFoundError:\n",
    "        print(f\"Error: The file '{file_path}' was not found.\")\n",
    "    except Exception as e:\n",
    "        print(f\"An error occurred: {e}\")\n",
    "\n",
    "# Specify the file path\n",
    "file_path = \"example.txt\"  # Replace this with the actual file path\n",
    "\n",
    "# Call the function to print file content\n",
    "print_file_content(file_path)\n"
   ]
  },
  {
   "cell_type": "code",
   "execution_count": null,
   "metadata": {
    "colab": {
     "base_uri": "https://localhost:8080/"
    },
    "executionInfo": {
     "elapsed": 2629,
     "status": "ok",
     "timestamp": 1735977176309,
     "user": {
      "displayName": "Rahul Suthar",
      "userId": "04345552612626967094"
     },
     "user_tz": -330
    },
    "id": "5tWojyIX8edv",
    "outputId": "c05c7ad4-3808-4af0-8a17-cb8f0ab0807b"
   },
   "outputs": [
    {
     "name": "stdout",
     "output_type": "stream",
     "text": [
      "Memory before function: 123.75 MB\n",
      "Memory after function: 162.08 MB\n"
     ]
    }
   ],
   "source": [
    "#16.Demonstrate how to use memory profiling to check the memory usage of a small program?\n",
    "import psutil\n",
    "import os\n",
    "import time\n",
    "\n",
    "def track_memory_usage():\n",
    "    ab = psutil.Process(os.getpid())  # Get current process\n",
    "    memory_before = ab.memory_info().rss / 1024 ** 2  # Convert to MB\n",
    "    print(f\"Memory before function: {memory_before:.2f} MB\")\n",
    "\n",
    "    # Simulate memory usage\n",
    "    a = [i * 2 for i in range(1000000)]  # List allocation\n",
    "    time.sleep(2)\n",
    "\n",
    "    memory_after = ab.memory_info().rss / 1024 ** 2  # Convert to MB\n",
    "    print(f\"Memory after function: {memory_after:.2f} MB\")\n",
    "\n",
    "track_memory_usage()\n",
    "\n"
   ]
  },
  {
   "cell_type": "code",
   "execution_count": null,
   "metadata": {
    "colab": {
     "base_uri": "https://localhost:8080/"
    },
    "executionInfo": {
     "elapsed": 469,
     "status": "ok",
     "timestamp": 1735977815729,
     "user": {
      "displayName": "Rahul Suthar",
      "userId": "04345552612626967094"
     },
     "user_tz": -330
    },
    "id": "SO0zd81MBdb1",
    "outputId": "6874368c-fe87-489e-931e-0b2b28c16925"
   },
   "outputs": [
    {
     "name": "stdout",
     "output_type": "stream",
     "text": [
      "Numbers have been written to numbers.txt\n"
     ]
    }
   ],
   "source": [
    "#17.Write a Python program to create and write a list of numbers to a file, one number per line?\n",
    "# Create a list of numbers\n",
    "numbers = [1, 2, 3, 4, 5, 6, 7, 8, 9, 10]\n",
    "\n",
    "# Specify the file name\n",
    "file_name = \"numbers.txt\"\n",
    "\n",
    "# Open the file in write mode\n",
    "with open(file_name, 'w') as file:\n",
    "    # Iterate through the list and write each number to the file\n",
    "    for number in numbers:\n",
    "        file.write(f\"{number}\\n\")  # Write each number followed by a newline\n",
    "\n",
    "print(f\"Numbers have been written to {file_name}\")\n"
   ]
  },
  {
   "cell_type": "code",
   "execution_count": null,
   "metadata": {
    "colab": {
     "base_uri": "https://localhost:8080/"
    },
    "executionInfo": {
     "elapsed": 451,
     "status": "ok",
     "timestamp": 1735980075623,
     "user": {
      "displayName": "Rahul Suthar",
      "userId": "04345552612626967094"
     },
     "user_tz": -330
    },
    "id": "_-fmLrZQBdfF",
    "outputId": "e7671f79-ec8f-4725-9cba-e36938309c02"
   },
   "outputs": [
    {
     "name": "stdout",
     "output_type": "stream",
     "text": [
      "Logging messages to app.log with rotation after 1MB.\n"
     ]
    }
   ],
   "source": [
    "#18.How would you implement a basic logging setup that logs to a file with rotation after 1M?\n",
    "import logging\n",
    "from logging.handlers import RotatingFileHandler\n",
    "\n",
    "# Define the log file path\n",
    "log_file = \"app.log\"\n",
    "\n",
    "# Create a rotating file handler that rotates the log file when it reaches 1MB\n",
    "handler = RotatingFileHandler(log_file, maxBytes=1 * 1024 * 1024, backupCount=3)\n",
    "\n",
    "# Set up the basic configuration of logging\n",
    "logging.basicConfig(\n",
    "    level=logging.DEBUG,  # Set the logging level to DEBUG\n",
    "    handlers=[handler],   # Add the rotating file handler to the logging configuration\n",
    "    format=\"%(asctime)s - %(levelname)s - %(message)s\",  # Log format\n",
    "    force=True\n",
    ")\n",
    "\n",
    "# Log some messages\n",
    "logging.debug(\"This is a debug message.\")\n",
    "logging.info(\"This is an info message.\")\n",
    "logging.warning(\"This is a warning message.\")\n",
    "logging.error(\"This is an error message.\")\n",
    "logging.critical(\"This is a critical message.\")\n",
    "logging.shutdown()\n",
    "\n",
    "print(\"Logging messages to app.log with rotation after 1MB.\")\n"
   ]
  },
  {
   "cell_type": "code",
   "execution_count": null,
   "metadata": {
    "colab": {
     "base_uri": "https://localhost:8080/"
    },
    "executionInfo": {
     "elapsed": 476,
     "status": "ok",
     "timestamp": 1735905708001,
     "user": {
      "displayName": "Rahul Suthar",
      "userId": "04345552612626967094"
     },
     "user_tz": -330
    },
    "id": "P1ojhrhsBdhX",
    "outputId": "32a7ffee-8758-4cab-cddd-489503a7f028"
   },
   "outputs": [
    {
     "name": "stdout",
     "output_type": "stream",
     "text": [
      "IndexError occurred: list index out of range\n"
     ]
    }
   ],
   "source": [
    "#19.Write a program that handles both IndexError and KeyError using a try-except block?\n",
    "# Sample list and dictionary\n",
    "my_list = [1, 2, 3]\n",
    "my_dict = {\"name\": \"Alice\", \"age\": 25}\n",
    "\n",
    "try:\n",
    "    # Try accessing an element in the list with an invalid index\n",
    "    list_item = my_list[5]  # This will raise an IndexError\n",
    "    print(\"List Item:\", list_item)\n",
    "\n",
    "    # Try accessing a key in the dictionary that doesn't exist\n",
    "    dict_value = my_dict[\"address\"]  # This will raise a KeyError\n",
    "    print(\"Dictionary Value:\", dict_value)\n",
    "\n",
    "except IndexError as ie:\n",
    "    print(\"IndexError occurred:\", ie)\n",
    "except KeyError as ke:\n",
    "    print(\"KeyError occurred:\", ke)\n"
   ]
  },
  {
   "cell_type": "code",
   "execution_count": null,
   "metadata": {
    "colab": {
     "base_uri": "https://localhost:8080/"
    },
    "executionInfo": {
     "elapsed": 499,
     "status": "ok",
     "timestamp": 1735905750128,
     "user": {
      "displayName": "Rahul Suthar",
      "userId": "04345552612626967094"
     },
     "user_tz": -330
    },
    "id": "dAJ5RB5JBdj-",
    "outputId": "d994e849-21d1-446a-ee43-942444a3dd8a"
   },
   "outputs": [
    {
     "name": "stdout",
     "output_type": "stream",
     "text": [
      "Hello, this is a test string!This is the new data being appended.\n",
      "\n"
     ]
    }
   ],
   "source": [
    "#20.How would you open a file and read its contents using a context manager in Pytho?\n",
    "# Specify the file path\n",
    "file_path = \"example.txt\"\n",
    "\n",
    "# Use a context manager to open the file and read its contents\n",
    "with open(file_path, 'r') as file:\n",
    "    # Read the entire content of the file\n",
    "    content = file.read()\n",
    "    print(content)\n"
   ]
  },
  {
   "cell_type": "code",
   "execution_count": null,
   "metadata": {
    "colab": {
     "base_uri": "https://localhost:8080/"
    },
    "executionInfo": {
     "elapsed": 491,
     "status": "ok",
     "timestamp": 1735905792054,
     "user": {
      "displayName": "Rahul Suthar",
      "userId": "04345552612626967094"
     },
     "user_tz": -330
    },
    "id": "agw_Q4dPBdnP",
    "outputId": "b07063a2-7d50-481b-bec3-e0520eae2458"
   },
   "outputs": [
    {
     "name": "stdout",
     "output_type": "stream",
     "text": [
      "The word 'example' occurs 0 time(s) in the file.\n"
     ]
    }
   ],
   "source": [
    "#21.Write a Python program that reads a file and prints the number of occurrences of a specific word?\n",
    "# Function to count occurrences of a specific word in a file\n",
    "def count_word_occurrences(file_path, target_word):\n",
    "    try:\n",
    "        with open(file_path, 'r') as file:\n",
    "            # Read the entire file content\n",
    "            content = file.read()\n",
    "\n",
    "            # Count the occurrences of the target word (case-insensitive)\n",
    "            word_count = content.lower().split().count(target_word.lower())\n",
    "\n",
    "        print(f\"The word '{target_word}' occurs {word_count} time(s) in the file.\")\n",
    "    except FileNotFoundError:\n",
    "        print(f\"Error: The file '{file_path}' was not found.\")\n",
    "    except Exception as e:\n",
    "        print(f\"An error occurred: {e}\")\n",
    "\n",
    "# Example usage\n",
    "file_path = \"example.txt\"  # Replace with your file path\n",
    "target_word = \"example\"    # Replace with the word you want to search for\n",
    "count_word_occurrences(file_path, target_word)\n"
   ]
  },
  {
   "cell_type": "code",
   "execution_count": null,
   "metadata": {
    "colab": {
     "base_uri": "https://localhost:8080/",
     "height": 356
    },
    "executionInfo": {
     "elapsed": 484,
     "status": "error",
     "timestamp": 1735981904764,
     "user": {
      "displayName": "Rahul Suthar",
      "userId": "04345552612626967094"
     },
     "user_tz": -330
    },
    "id": "DyxkOErb8egb",
    "outputId": "edd24a4a-d943-491a-f412-9b3b02f4ee9b"
   },
   "outputs": [
    {
     "ename": "FileNotFoundError",
     "evalue": "[Errno 2] No such file or directory: 'example.txt'",
     "output_type": "error",
     "traceback": [
      "\u001b[0;31m---------------------------------------------------------------------------\u001b[0m",
      "\u001b[0;31mFileNotFoundError\u001b[0m                         Traceback (most recent call last)",
      "\u001b[0;32m<ipython-input-9-29a38ba79094>\u001b[0m in \u001b[0;36m<cell line: 11>\u001b[0;34m()\u001b[0m\n\u001b[1;32m      9\u001b[0m \u001b[0mfile_path\u001b[0m \u001b[0;34m=\u001b[0m \u001b[0;34m\"example.txt\"\u001b[0m  \u001b[0;31m# Replace with your file path\u001b[0m\u001b[0;34m\u001b[0m\u001b[0;34m\u001b[0m\u001b[0m\n\u001b[1;32m     10\u001b[0m \u001b[0;34m\u001b[0m\u001b[0m\n\u001b[0;32m---> 11\u001b[0;31m \u001b[0;32mif\u001b[0m \u001b[0mis_file_empty\u001b[0m\u001b[0;34m(\u001b[0m\u001b[0mfile_path\u001b[0m\u001b[0;34m)\u001b[0m\u001b[0;34m:\u001b[0m\u001b[0;34m\u001b[0m\u001b[0;34m\u001b[0m\u001b[0m\n\u001b[0m\u001b[1;32m     12\u001b[0m     \u001b[0mprint\u001b[0m\u001b[0;34m(\u001b[0m\u001b[0;34mf\"The file '{file_path}' is empty.\"\u001b[0m\u001b[0;34m)\u001b[0m\u001b[0;34m\u001b[0m\u001b[0;34m\u001b[0m\u001b[0m\n\u001b[1;32m     13\u001b[0m \u001b[0;32melse\u001b[0m\u001b[0;34m:\u001b[0m\u001b[0;34m\u001b[0m\u001b[0;34m\u001b[0m\u001b[0m\n",
      "\u001b[0;32m<ipython-input-9-29a38ba79094>\u001b[0m in \u001b[0;36mis_file_empty\u001b[0;34m(file_path)\u001b[0m\n\u001b[1;32m      4\u001b[0m \u001b[0;31m# Function to check if a file is empty\u001b[0m\u001b[0;34m\u001b[0m\u001b[0;34m\u001b[0m\u001b[0m\n\u001b[1;32m      5\u001b[0m \u001b[0;32mdef\u001b[0m \u001b[0mis_file_empty\u001b[0m\u001b[0;34m(\u001b[0m\u001b[0mfile_path\u001b[0m\u001b[0;34m)\u001b[0m\u001b[0;34m:\u001b[0m\u001b[0;34m\u001b[0m\u001b[0;34m\u001b[0m\u001b[0m\n\u001b[0;32m----> 6\u001b[0;31m     \u001b[0;32mreturn\u001b[0m \u001b[0mos\u001b[0m\u001b[0;34m.\u001b[0m\u001b[0mpath\u001b[0m\u001b[0;34m.\u001b[0m\u001b[0mgetsize\u001b[0m\u001b[0;34m(\u001b[0m\u001b[0mfile_path\u001b[0m\u001b[0;34m)\u001b[0m \u001b[0;34m==\u001b[0m \u001b[0;36m0\u001b[0m\u001b[0;34m\u001b[0m\u001b[0;34m\u001b[0m\u001b[0m\n\u001b[0m\u001b[1;32m      7\u001b[0m \u001b[0;34m\u001b[0m\u001b[0m\n\u001b[1;32m      8\u001b[0m \u001b[0;31m# Example usage\u001b[0m\u001b[0;34m\u001b[0m\u001b[0;34m\u001b[0m\u001b[0m\n",
      "\u001b[0;32m/usr/lib/python3.10/genericpath.py\u001b[0m in \u001b[0;36mgetsize\u001b[0;34m(filename)\u001b[0m\n\u001b[1;32m     48\u001b[0m \u001b[0;32mdef\u001b[0m \u001b[0mgetsize\u001b[0m\u001b[0;34m(\u001b[0m\u001b[0mfilename\u001b[0m\u001b[0;34m)\u001b[0m\u001b[0;34m:\u001b[0m\u001b[0;34m\u001b[0m\u001b[0;34m\u001b[0m\u001b[0m\n\u001b[1;32m     49\u001b[0m     \u001b[0;34m\"\"\"Return the size of a file, reported by os.stat().\"\"\"\u001b[0m\u001b[0;34m\u001b[0m\u001b[0;34m\u001b[0m\u001b[0m\n\u001b[0;32m---> 50\u001b[0;31m     \u001b[0;32mreturn\u001b[0m \u001b[0mos\u001b[0m\u001b[0;34m.\u001b[0m\u001b[0mstat\u001b[0m\u001b[0;34m(\u001b[0m\u001b[0mfilename\u001b[0m\u001b[0;34m)\u001b[0m\u001b[0;34m.\u001b[0m\u001b[0mst_size\u001b[0m\u001b[0;34m\u001b[0m\u001b[0;34m\u001b[0m\u001b[0m\n\u001b[0m\u001b[1;32m     51\u001b[0m \u001b[0;34m\u001b[0m\u001b[0m\n\u001b[1;32m     52\u001b[0m \u001b[0;34m\u001b[0m\u001b[0m\n",
      "\u001b[0;31mFileNotFoundError\u001b[0m: [Errno 2] No such file or directory: 'example.txt'"
     ]
    }
   ],
   "source": [
    "#23.How can you check if a file is empty before attempting to read its content?\n",
    "import os\n",
    "\n",
    "# Function to check if a file is empty\n",
    "def is_file_empty(file_path):\n",
    "    return os.path.getsize(file_path) == 0\n",
    "\n",
    "# Example usage\n",
    "file_path = \"example.txt\"  # Replace with your file path\n",
    "\n",
    "if is_file_empty(file_path):\n",
    "    print(f\"The file '{file_path}' is empty.\")\n",
    "else:\n",
    "    print(f\"The file '{file_path}' is not empty.\")\n"
   ]
  },
  {
   "cell_type": "code",
   "execution_count": null,
   "metadata": {
    "colab": {
     "base_uri": "https://localhost:8080/"
    },
    "executionInfo": {
     "elapsed": 583,
     "status": "ok",
     "timestamp": 1735905912149,
     "user": {
      "displayName": "Rahul Suthar",
      "userId": "04345552612626967094"
     },
     "user_tz": -330
    },
    "id": "qpUKuRbH8eh8",
    "outputId": "cd2ac713-aa6b-4c32-9e90-ea8fd67ddf5e"
   },
   "outputs": [
    {
     "name": "stderr",
     "output_type": "stream",
     "text": [
      "ERROR:root:FileNotFoundError: [Errno 2] No such file or directory: 'non_existent_file.txt' - File path: non_existent_file.txt\n"
     ]
    }
   ],
   "source": [
    "#24.Write a Python program that writes to a log file when an error occurs during file handling?\n",
    "import logging\n",
    "\n",
    "# Set up logging configuration\n",
    "logging.basicConfig(\n",
    "    level=logging.ERROR,  # Log errors and more severe messages\n",
    "    format=\"%(asctime)s - %(levelname)s - %(message)s\",\n",
    "    handlers=[logging.FileHandler(\"file_errors.log\"), logging.StreamHandler()]\n",
    ")\n",
    "\n",
    "# Function to read from a file with error handling\n",
    "def read_file(file_path):\n",
    "    try:\n",
    "        with open(file_path, 'r') as file:\n",
    "            content = file.read()\n",
    "            print(content)\n",
    "    except FileNotFoundError as e:\n",
    "        logging.error(f\"FileNotFoundError: {e} - File path: {file_path}\")\n",
    "    except IOError as e:\n",
    "        logging.error(f\"IOError: {e} - File path: {file_path}\")\n",
    "    except Exception as e:\n",
    "        logging.error(f\"Unexpected error: {e} - File path: {file_path}\")\n",
    "\n",
    "# Example usage\n",
    "file_path = \"non_existent_file.txt\"  # Replace with your file path\n",
    "\n",
    "read_file(file_path)"
   ]
  },
  {
   "cell_type": "code",
   "execution_count": 6,
   "metadata": {},
   "outputs": [
    {
     "name": "stdout",
     "output_type": "stream",
     "text": [
      "Error: Source file not found.\n"
     ]
    }
   ],
   "source": [
    "def copy_file(source_file, destination_file):\n",
    "    try:\n",
    "        with open(source_file, 'r') as source, open(destination_file, 'w') as destination:\n",
    "            for line in source:\n",
    "                destination.write(line)\n",
    "        print(\"File copied successfully.\")\n",
    "    except FileNotFoundError:\n",
    "        print(\"Error: Source file not found.\")\n",
    "\n",
    "if __name__ == \"__main__\":\n",
    "    source_file = \"source.txt\"  # Replace with your source file name\n",
    "    destination_file = \"destination.txt\"  # Replace with your destination file name\n",
    "    copy_file(source_file, destination_file)"
   ]
  },
  {
   "cell_type": "code",
   "execution_count": null,
   "metadata": {},
   "outputs": [],
   "source": []
  }
 ],
 "metadata": {
  "colab": {
   "authorship_tag": "ABX9TyNgpVByO2AW6dW9NCFC5CbG",
   "provenance": []
  },
  "kernelspec": {
   "display_name": "Python 3 (ipykernel)",
   "language": "python",
   "name": "python3"
  },
  "language_info": {
   "codemirror_mode": {
    "name": "ipython",
    "version": 3
   },
   "file_extension": ".py",
   "mimetype": "text/x-python",
   "name": "python",
   "nbconvert_exporter": "python",
   "pygments_lexer": "ipython3",
   "version": "3.12.7"
  }
 },
 "nbformat": 4,
 "nbformat_minor": 4
}
